{
 "metadata": {
  "language": "Julia",
  "name": "",
  "signature": "sha256:0cd340cb58110b11399edd7e39d15cc2505aa8163ea9f6edf2069b3079baf952"
 },
 "nbformat": 3,
 "nbformat_minor": 0,
 "worksheets": [
  {
   "cells": [
    {
     "cell_type": "code",
     "collapsed": false,
     "input": [
      "Pkg.build(\"IJulia\")"
     ],
     "language": "python",
     "metadata": {},
     "outputs": [
      {
       "output_type": "stream",
       "stream": "stderr",
       "text": [
        "INFO: Building Homebrew"
       ]
      },
      {
       "output_type": "stream",
       "stream": "stderr",
       "text": [
        "\n"
       ]
      },
      {
       "output_type": "stream",
       "stream": "stdout",
       "text": [
        "HEAD is now at b744f60 Deprecate GithubGistFormula\n"
       ]
      },
      {
       "output_type": "stream",
       "stream": "stdout",
       "text": [
        "HEAD is now at c58f736 Merge pull request #35 from staticfloat/staging\n"
       ]
      },
      {
       "output_type": "stream",
       "stream": "stderr",
       "text": [
        "INFO: Building Nettle"
       ]
      },
      {
       "output_type": "stream",
       "stream": "stderr",
       "text": [
        "\n"
       ]
      },
      {
       "output_type": "stream",
       "stream": "stderr",
       "text": [
        "===============================[ ERROR: Nettle ]================================\n",
        "\n",
        "no method Dict{Any,Any}(Dict{Any,Any},)\n",
        "you may have intended to import Base.Dict\n",
        "at /Users/devendrashelar7/.julia/v0.2/Nettle/deps/build.jl:33\n",
        "\n",
        "================================================================================\n"
       ]
      },
      {
       "output_type": "stream",
       "stream": "stderr",
       "text": [
        "INFO: Building ZMQ"
       ]
      },
      {
       "output_type": "stream",
       "stream": "stderr",
       "text": [
        "\n"
       ]
      },
      {
       "output_type": "stream",
       "stream": "stderr",
       "text": [
        "=================================[ ERROR: ZMQ ]=================================\n",
        "\n",
        "no method Dict{Any,Any}(Dict{Any,Any},)\n",
        "you may have intended to import Base.Dict\n",
        "at /Users/devendrashelar7/.julia/v0.2/ZMQ/deps/build.jl:8\n",
        "\n",
        "================================================================================\n"
       ]
      },
      {
       "output_type": "stream",
       "stream": "stderr",
       "text": [
        "INFO: Building IJulia"
       ]
      },
      {
       "output_type": "stream",
       "stream": "stderr",
       "text": [
        "\n"
       ]
      },
      {
       "output_type": "stream",
       "stream": "stderr",
       "text": [
        "Found IPython version 2.2.0 ... ok.\n"
       ]
      },
      {
       "output_type": "stream",
       "stream": "stderr",
       "text": [
        "Creating julia profile in IPython...\n"
       ]
      },
      {
       "output_type": "stream",
       "stream": "stderr",
       "text": [
        "(Existing KernelManager.kernel_cmd setting in ipython_config.py is untouched.)\n"
       ]
      },
      {
       "output_type": "stream",
       "stream": "stderr",
       "text": [
        "(Existing IPythonWidget.execute_on_complete_input setting in ipython_qtconsole_config.py is untouched.)\n",
        "(Existing FrontendWidget.lexer_class setting in ipython_qtconsole_config.py is untouched.)\n",
        "(Existing NotebookApp.port setting in ipython_notebook_config.py is untouched.)"
       ]
      },
      {
       "output_type": "stream",
       "stream": "stderr",
       "text": [
        "\n",
        "(Existing ipynblogo.png file untouched.)\n",
        "(Existing ipynblogo.svg file untouched.)\n",
        "(Existing favicon.ico file untouched.)\n",
        "(Existing custom.js file untouched.)"
       ]
      },
      {
       "output_type": "stream",
       "stream": "stderr",
       "text": [
        "\n",
        "(Existing julia.js file untouched.)\n",
        "\n",
        "================================[ BUILD ERRORS ]================================\n",
        "\n",
        "WARNING: ZMQ and Nettle had build errors.\n",
        "\n",
        " - packages with build errors remain installed in /Users/devendrashelar7/.julia/v0.2\n",
        " - build a package and all its dependencies with `Pkg.build(pkg)`\n",
        " - build a single package by running its `deps/build.jl` script\n",
        "\n",
        "================================================================================\n"
       ]
      }
     ],
     "prompt_number": 9
    },
    {
     "cell_type": "code",
     "collapsed": false,
     "input": [
      "Pkg.update();\n",
      "Pkg.add(\"JuMP\");\n",
      "Pkg.add(\"Optim\");\n",
      "Pkg.add(\"Ipopt\")\n",
      "Pkg.add(\"Convex\")\n",
      "Pkg.add(\"Distributions\")\n",
      "Pkg.add(\"PyPlot\")\n",
      "Pkg.add(\"Gadfly\")\n",
      "Pkg.add(\"Interact\")\n",
      "Pkg.add(\"ECOS\")"
     ],
     "language": "python",
     "metadata": {},
     "outputs": [
      {
       "output_type": "stream",
       "stream": "stderr",
       "text": [
        "INFO: Updating METADATA..."
       ]
      },
      {
       "output_type": "stream",
       "stream": "stderr",
       "text": [
        "\n"
       ]
      },
      {
       "output_type": "stream",
       "stream": "stderr",
       "text": [
        "INFO: Updating Plotly..."
       ]
      },
      {
       "output_type": "stream",
       "stream": "stderr",
       "text": [
        "\n"
       ]
      },
      {
       "output_type": "stream",
       "stream": "stderr",
       "text": [
        "INFO: Computing changes..."
       ]
      },
      {
       "output_type": "stream",
       "stream": "stderr",
       "text": [
        "\n",
        "INFO: "
       ]
      },
      {
       "output_type": "stream",
       "stream": "stderr",
       "text": [
        "No packages to install, update or remove.\n",
        "INFO: "
       ]
      },
      {
       "output_type": "stream",
       "stream": "stderr",
       "text": [
        "Nothing to be done.\n",
        "INFO: "
       ]
      },
      {
       "output_type": "stream",
       "stream": "stderr",
       "text": [
        "Nothing to be done.\n",
        "INFO: "
       ]
      },
      {
       "output_type": "stream",
       "stream": "stderr",
       "text": [
        "Nothing to be done.\n"
       ]
      },
      {
       "ename": "LoadError",
       "evalue": "Convex's requirements can't be satisfied because of the following fixed packages: julia\nat In[10]:5",
       "output_type": "pyerr",
       "traceback": [
        "Convex's requirements can't be satisfied because of the following fixed packages: julia\nat In[10]:5",
        " in error at error.jl:22",
        " in resolve at pkg/entry.jl:321",
        " in resolve at pkg/entry.jl:316",
        " in edit at pkg/entry.jl:24",
        " in add at pkg/entry.jl:44",
        " in add at pkg/entry.jl:48",
        " in anonymous at pkg/dir.jl:28",
        " in cd at file.jl:22",
        " in cd at pkg/dir.jl:28",
        " in add at pkg.jl:19"
       ]
      }
     ],
     "prompt_number": 10
    },
    {
     "cell_type": "code",
     "collapsed": false,
     "input": [
      "\n",
      "import Convex\n",
      "x = Convex.Variable(Convex.Positive())\n",
      "Convex.solve!(Convex.minimize(x))\n",
      "Convex.evaluate(x)"
     ],
     "language": "python",
     "metadata": {},
     "outputs": [
      {
       "ename": "LoadError",
       "evalue": "Convex not found\nat In[7]:2",
       "output_type": "pyerr",
       "traceback": [
        "Convex not found\nat In[7]:2",
        " in require at loading.jl:39"
       ]
      }
     ],
     "prompt_number": 7
    },
    {
     "cell_type": "code",
     "collapsed": false,
     "input": [
      "import JuMP\n",
      "m = JuMP.Model()\n",
      "@JuMP.defVar(m, x >= 0)\n",
      "@JuMP.setNLObjective(m, Min, x)\n",
      "JuMP.solve(m)\n",
      "JuMP.getValue(x)"
     ],
     "language": "python",
     "metadata": {},
     "outputs": [
      {
       "metadata": {},
       "output_type": "pyout",
       "prompt_number": 5,
       "text": [
        "0.0"
       ]
      },
      {
       "output_type": "stream",
       "stream": "stdout",
       "text": [
        "Optimize a model with 0 rows, 1 columns and 0 nonzeros\n",
        "Presolve removed 0 rows and 1 columns\n",
        "Presolve time: 0.00s\n",
        "Presolve: All rows and columns removed\n",
        "Iteration    Objective       Primal Inf.    Dual Inf.      Time\n",
        "       0    0.0000000e+00   0.000000e+00   0.000000e+00      0s\n",
        "\n",
        "Solved in 0 iterations and 0.00 seconds\n",
        "Optimal objective  0.000000000e+00\n",
        "\n",
        "******************************************************************************\n",
        "This program contains Ipopt, a library for large-scale nonlinear optimization.\n",
        " Ipopt is released as open source code under the Eclipse Public License (EPL).\n",
        "         For more information visit http://projects.coin-or.org/Ipopt\n",
        "******************************************************************************\n",
        "\n",
        "This is Ipopt version 3.11.8, running with linear solver mumps.\n",
        "NOTE: Other linear solvers might be more efficient (see Ipopt documentation).\n",
        "\n",
        "Number of nonzeros in equality constraint Jacobian...:        0\n",
        "Number of nonzeros in inequality constraint Jacobian.:        0\n",
        "Number of nonzeros in Lagrangian Hessian.............:        0\n",
        "\n",
        "Total number of variables............................:        1\n",
        "                     variables with only lower bounds:        1\n",
        "                variables with lower and upper bounds:        0\n",
        "                     variables with only upper bounds:        0\n",
        "Total number of equality constraints.................:        0\n",
        "Total number of inequality constraints...............:        0\n",
        "        inequality constraints with only lower bounds:        0\n",
        "   inequality constraints with lower and upper bounds:        0\n",
        "        inequality constraints with only upper bounds:        0\n",
        "\n",
        "iter    objective    inf_pr   inf_du lg(mu)  ||d||  lg(rg) alpha_du alpha_pr  ls\n",
        "   0  9.9999900e-03 0.00e+00 0.00e+00  -1.0 0.00e+00    -  0.00e+00 0.00e+00   0\n",
        "   1  1.5041411e-04 0.00e+00 1.50e-09  -3.8 9.85e-03    -  1.00e+00 1.00e+00f  1\n",
        "   2  1.8349147e-06 0.00e+00 1.84e-11  -5.7 1.49e-04    -  1.00e+00 1.00e+00f  1\n",
        "   3 -7.4940964e-09 0.00e+00 2.51e-14  -8.6 1.84e-06    -  1.00e+00 1.00e+00f  1\n",
        "\n",
        "Number of Iterations....: 3\n",
        "\n",
        "                                   (scaled)                 (unscaled)\n",
        "Objective...............:  -7.4940964063749669e-09   -7.4940964063749669e-09\n",
        "Dual infeasibility......:   2.5091040356528538e-14    2.5091040356528538e-14\n",
        "Constraint violation....:   0.0000000000000000e+00    0.0000000000000000e+00\n",
        "Complementarity.........:   2.5059035936250962e-09    2.5059035936250962e-09\n",
        "Overall NLP error.......:   2.5059035936250962e-09    2.5059035936250962e-09\n",
        "\n",
        "\n",
        "Number of objective function evaluations             = 4\n",
        "Number of objective gradient evaluations             = 4\n",
        "Number of equality constraint evaluations            = 0\n",
        "Number of inequality constraint evaluations          = 0\n",
        "Number of equality constraint Jacobian evaluations   = 0\n",
        "Number of inequality constraint Jacobian evaluations = 0\n",
        "Number of Lagrangian Hessian evaluations             = 3\n",
        "Total CPU secs in IPOPT (w/o function evaluations)   =      0.007\n",
        "Total CPU secs in NLP function evaluations           =      0.001\n",
        "\n",
        "EXIT: Optimal Solution Found.\n"
       ]
      }
     ],
     "prompt_number": 5
    }
   ],
   "metadata": {}
  }
 ]
}