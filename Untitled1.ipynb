{
 "metadata": {
  "language": "Julia",
  "name": ""
 },
 "nbformat": 3,
 "nbformat_minor": 0,
 "worksheets": [
  {
   "cells": [
    {
     "cell_type": "code",
     "collapsed": false,
     "input": [
      "methods(f)"
     ],
     "language": "python",
     "metadata": {},
     "outputs": [
      {
       "ename": "LoadError",
       "evalue": "f not defined\nat In[1]:1",
       "output_type": "pyerr",
       "traceback": [
        "f not defined\nat In[1]:1"
       ]
      }
     ],
     "prompt_number": 1
    },
    {
     "cell_type": "code",
     "collapsed": false,
     "input": [
      "f(x::Number,y::Number) = (x,y)"
     ],
     "language": "python",
     "metadata": {},
     "outputs": [
      {
       "metadata": {},
       "output_type": "pyout",
       "prompt_number": 2,
       "text": [
        "f (generic function with 1 method)"
       ]
      }
     ],
     "prompt_number": 2
    },
    {
     "cell_type": "code",
     "collapsed": false,
     "input": [
      "methods(f)"
     ],
     "language": "python",
     "metadata": {},
     "outputs": [
      {
       "metadata": {},
       "output_type": "pyout",
       "prompt_number": 3,
       "text": [
        "# 1 method for generic function \"f\":\n",
        "f(x::Number,y::Number) at In[2]:1"
       ]
      }
     ],
     "prompt_number": 3
    },
    {
     "cell_type": "code",
     "collapsed": false,
     "input": [
      "x=1 "
     ],
     "language": "python",
     "metadata": {},
     "outputs": [
      {
       "metadata": {},
       "output_type": "pyout",
       "prompt_number": 4,
       "text": [
        "1"
       ]
      }
     ],
     "prompt_number": 4
    },
    {
     "cell_type": "code",
     "collapsed": false,
     "input": [
      "x"
     ],
     "language": "python",
     "metadata": {},
     "outputs": [
      {
       "metadata": {},
       "output_type": "pyout",
       "prompt_number": 5,
       "text": [
        "1"
       ]
      }
     ],
     "prompt_number": 5
    },
    {
     "cell_type": "code",
     "collapsed": false,
     "input": [
      "native_code(f,(Int,Int))"
     ],
     "language": "python",
     "metadata": {},
     "outputs": [
      {
       "ename": "LoadError",
       "evalue": "native_code not defined\nat In[6]:1",
       "output_type": "pyerr",
       "traceback": [
        "native_code not defined\nat In[6]:1"
       ]
      }
     ],
     "prompt_number": 6
    },
    {
     "cell_type": "code",
     "collapsed": false,
     "input": [
      "code_native(f,(Int,Int))"
     ],
     "language": "python",
     "metadata": {},
     "outputs": [
      {
       "output_type": "stream",
       "stream": "stdout",
       "text": [
        "\t.section\t__TEXT,__text,regular,pure_instructions\n",
        "Filename: In[2]\n",
        "Source line: 1\n",
        "\tpush\tRBP\n",
        "\tmov\tRBP, RSP\n",
        "\tpush\tR15\n",
        "\tpush\tR14\n",
        "\tpush\tR13\n",
        "\tpush\tR12\n",
        "\tpush\tRBX\n",
        "\tsub\tRSP, 24\n",
        "\tmov\tR14, RSI\n",
        "\tmov\tQWORD PTR [RBP - 64], 2\n",
        "Source line: 1\n",
        "\tmovabs\tR12, 4307454016\n",
        "\tmov\tRAX, QWORD PTR [R12]\n",
        "\tmov\tQWORD PTR [RBP - 56], RAX\n",
        "\tlea\tRAX, QWORD PTR [RBP - 64]\n",
        "\tmov\tQWORD PTR [R12], RAX\n",
        "\tmov\tQWORD PTR [RBP - 48], 0\n",
        "Source line: 1\n",
        "\tmovabs\tR13, 4295282576\n",
        "\tcall\tR13\n",
        "\tmov\tR15, RAX\n",
        "\tmovabs\tRAX, 4295353216\n",
        "\tmov\tQWORD PTR [RBP - 48], R15\n",
        "\tmov\tEDI, 32\n",
        "\tcall\tRAX\n",
        "\tmov\tRBX, RAX\n",
        "\tmovabs\tRAX, 4345338368\n",
        "\tmov\tQWORD PTR [RBX + 16], R15\n",
        "\tmov\tQWORD PTR [RBX], RAX\n",
        "\tmov\tQWORD PTR [RBX + 8], 2\n",
        "\tmov\tQWORD PTR [RBX + 24], 0\n",
        "\tmov\tQWORD PTR [RBP - 48], RBX\n",
        "\tmov\tRDI, R14\n",
        "\tcall\tR13\n",
        "\tmov\tQWORD PTR [RBX + 24], RAX\n",
        "\tmov\tRAX, QWORD PTR [RBP - 56]\n",
        "\tmov\tQWORD PTR [R12], RAX\n",
        "\tmov\tRAX, RBX\n",
        "\tadd\tRSP, 24\n",
        "\tpop\tRBX\n",
        "\tpop\tR12\n",
        "\tpop\tR13\n",
        "\tpop\tR14\n",
        "\tpop\tR15\n",
        "\tpop\tRBP\n",
        "\tret\n"
       ]
      }
     ],
     "prompt_number": 7
    },
    {
     "cell_type": "code",
     "collapsed": false,
     "input": [
      "L={}"
     ],
     "language": "python",
     "metadata": {},
     "outputs": [
      {
       "metadata": {},
       "output_type": "pyout",
       "prompt_number": 8,
       "text": [
        "0-element Array{Any,1}"
       ]
      }
     ],
     "prompt_number": 8
    },
    {
     "cell_type": "code",
     "collapsed": false,
     "input": [
      "push!(L,3.0)"
     ],
     "language": "python",
     "metadata": {},
     "outputs": [
      {
       "metadata": {},
       "output_type": "pyout",
       "prompt_number": 9,
       "text": [
        "1-element Array{Any,1}:\n",
        " 3.0"
       ]
      }
     ],
     "prompt_number": 9
    },
    {
     "cell_type": "code",
     "collapsed": false,
     "input": [
      "L2=Float64{}"
     ],
     "language": "python",
     "metadata": {},
     "outputs": [
      {
       "metadata": {},
       "output_type": "pyout",
       "prompt_number": 10,
       "text": [
        "Float64"
       ]
      }
     ],
     "prompt_number": 10
    },
    {
     "cell_type": "code",
     "collapsed": false,
     "input": [
      "L3=Float64[]"
     ],
     "language": "python",
     "metadata": {},
     "outputs": [
      {
       "metadata": {},
       "output_type": "pyout",
       "prompt_number": 11,
       "text": [
        "0-element Array{Float64,1}"
       ]
      }
     ],
     "prompt_number": 11
    },
    {
     "cell_type": "code",
     "collapsed": false,
     "input": [
      "{1,2,3}"
     ],
     "language": "python",
     "metadata": {},
     "outputs": [
      {
       "metadata": {},
       "output_type": "pyout",
       "prompt_number": 12,
       "text": [
        "3-element Array{Any,1}:\n",
        " 1\n",
        " 2\n",
        " 3"
       ]
      }
     ],
     "prompt_number": 12
    },
    {
     "cell_type": "code",
     "collapsed": false,
     "input": [
      "{1.0,2.0,3.0}"
     ],
     "language": "python",
     "metadata": {},
     "outputs": [
      {
       "metadata": {},
       "output_type": "pyout",
       "prompt_number": 13,
       "text": [
        "3-element Array{Any,1}:\n",
        " 1.0\n",
        " 2.0\n",
        " 3.0"
       ]
      }
     ],
     "prompt_number": 13
    },
    {
     "cell_type": "code",
     "collapsed": false,
     "input": [
      "typeof(:hello)"
     ],
     "language": "python",
     "metadata": {},
     "outputs": [
      {
       "metadata": {},
       "output_type": "pyout",
       "prompt_number": 14,
       "text": [
        "Symbol"
       ]
      }
     ],
     "prompt_number": 14
    },
    {
     "cell_type": "code",
     "collapsed": false,
     "input": [
      "push!(L2,:hello)\n"
     ],
     "language": "python",
     "metadata": {},
     "outputs": [
      {
       "ename": "LoadError",
       "evalue": "no method push!(DataType,Symbol)\nat In[15]:1",
       "output_type": "pyerr",
       "traceback": [
        "no method push!(DataType,Symbol)\nat In[15]:1"
       ]
      }
     ],
     "prompt_number": 15
    },
    {
     "cell_type": "code",
     "collapsed": false,
     "input": [
      "L3=Float64{2,3,4}\n"
     ],
     "language": "python",
     "metadata": {},
     "outputs": [
      {
       "ename": "LoadError",
       "evalue": "too many parameters for type Float64\nat In[17]:1",
       "output_type": "pyerr",
       "traceback": [
        "too many parameters for type Float64\nat In[17]:1"
       ]
      }
     ],
     "prompt_number": 17
    },
    {
     "cell_type": "code",
     "collapsed": false,
     "input": [
      "L3=Float64{2,3,4}"
     ],
     "language": "python",
     "metadata": {},
     "outputs": [
      {
       "ename": "LoadError",
       "evalue": "too many parameters for type Float64\nat In[18]:1",
       "output_type": "pyerr",
       "traceback": [
        "too many parameters for type Float64\nat In[18]:1"
       ]
      }
     ],
     "prompt_number": 18
    },
    {
     "cell_type": "code",
     "collapsed": false,
     "input": [
      "v={1,2,3}"
     ],
     "language": "python",
     "metadata": {},
     "outputs": [
      {
       "metadata": {},
       "output_type": "pyout",
       "prompt_number": 19,
       "text": [
        "3-element Array{Any,1}:\n",
        " 1\n",
        " 2\n",
        " 3"
       ]
      }
     ],
     "prompt_number": 19
    },
    {
     "cell_type": "code",
     "collapsed": false,
     "input": [
      "for i in 1:length(v)\n",
      "    "
     ],
     "language": "python",
     "metadata": {},
     "outputs": [
      {
       "ename": "LoadError",
       "evalue": "syntax: incomplete: premature end of input\nat In[20]:2",
       "output_type": "pyerr",
       "traceback": [
        "syntax: incomplete: premature end of input\nat In[20]:2"
       ]
      }
     ],
     "prompt_number": 20
    },
    {
     "cell_type": "code",
     "collapsed": false,
     "input": [
      "sum=0"
     ],
     "language": "python",
     "metadata": {},
     "outputs": [
      {
       "metadata": {},
       "output_type": "pyout",
       "prompt_number": 21,
       "text": [
        "0"
       ]
      }
     ],
     "prompt_number": 21
    },
    {
     "cell_type": "code",
     "collapsed": false,
     "input": [
      "x=norm(v)\n",
      "for i in 1:length(v)\n",
      "    v[i]=v[i]/x\n",
      "end"
     ],
     "language": "python",
     "metadata": {},
     "outputs": [
      {
       "ename": "LoadError",
       "evalue": "no method abs(Array{Any,1},)\nat In[22]:1",
       "output_type": "pyerr",
       "traceback": [
        "no method abs(Array{Any,1},)\nat In[22]:1",
        " in norm at linalg/generic.jl:43",
        " in norm at linalg/generic.jl:55"
       ]
      }
     ],
     "prompt_number": 22
    },
    {
     "cell_type": "code",
     "collapsed": false,
     "input": [
      "v=Float64{1,2,3}\n"
     ],
     "language": "python",
     "metadata": {},
     "outputs": [
      {
       "ename": "LoadError",
       "evalue": "too many parameters for type Float64\nat In[23]:1",
       "output_type": "pyerr",
       "traceback": [
        "too many parameters for type Float64\nat In[23]:1"
       ]
      }
     ],
     "prompt_number": 23
    },
    {
     "cell_type": "code",
     "collapsed": false,
     "input": [
      "v=[1.0,2.0,3.0]"
     ],
     "language": "python",
     "metadata": {},
     "outputs": [
      {
       "metadata": {},
       "output_type": "pyout",
       "prompt_number": 24,
       "text": [
        "3-element Array{Float64,1}:\n",
        " 1.0\n",
        " 2.0\n",
        " 3.0"
       ]
      }
     ],
     "prompt_number": 24
    },
    {
     "cell_type": "code",
     "collapsed": false,
     "input": [
      "x=norm(v)\n",
      "for i in 1:length(v)\n",
      "    v[i]=v[i]/x\n",
      "end"
     ],
     "language": "python",
     "metadata": {},
     "outputs": [],
     "prompt_number": 25
    },
    {
     "cell_type": "code",
     "collapsed": false,
     "input": [
      "v"
     ],
     "language": "python",
     "metadata": {},
     "outputs": [
      {
       "metadata": {},
       "output_type": "pyout",
       "prompt_number": 26,
       "text": [
        "3-element Array{Float64,1}:\n",
        " 0.267261\n",
        " 0.534522\n",
        " 0.801784"
       ]
      }
     ],
     "prompt_number": 26
    },
    {
     "cell_type": "code",
     "collapsed": false,
     "input": [
      "v"
     ],
     "language": "python",
     "metadata": {},
     "outputs": [
      {
       "metadata": {},
       "output_type": "pyout",
       "prompt_number": 27,
       "text": [
        "3-element Array{Float64,1}:\n",
        " 0.267261\n",
        " 0.534522\n",
        " 0.801784"
       ]
      }
     ],
     "prompt_number": 27
    },
    {
     "cell_type": "code",
     "collapsed": false,
     "input": [
      "v/norm(v)\n"
     ],
     "language": "python",
     "metadata": {},
     "outputs": [
      {
       "metadata": {},
       "output_type": "pyout",
       "prompt_number": 28,
       "text": [
        "3-element Array{Float64,1}:\n",
        " 0.267261\n",
        " 0.534522\n",
        " 0.801784"
       ]
      }
     ],
     "prompt_number": 28
    },
    {
     "cell_type": "code",
     "collapsed": false,
     "input": [
      "l=[1.0,3.0]\n"
     ],
     "language": "python",
     "metadata": {},
     "outputs": [
      {
       "metadata": {},
       "output_type": "pyout",
       "prompt_number": 29,
       "text": [
        "2-element Array{Float64,1}:\n",
        " 1.0\n",
        " 3.0"
       ]
      }
     ],
     "prompt_number": 29
    },
    {
     "cell_type": "code",
     "collapsed": false,
     "input": [
      "v=new(l)"
     ],
     "language": "python",
     "metadata": {},
     "outputs": [
      {
       "ename": "LoadError",
       "evalue": "new not defined\nat In[30]:1",
       "output_type": "pyerr",
       "traceback": [
        "new not defined\nat In[30]:1"
       ]
      }
     ],
     "prompt_number": 30
    },
    {
     "cell_type": "code",
     "collapsed": false,
     "input": [
      "v=copy(l)"
     ],
     "language": "python",
     "metadata": {},
     "outputs": [
      {
       "metadata": {},
       "output_type": "pyout",
       "prompt_number": 31,
       "text": [
        "2-element Array{Float64,1}:\n",
        " 1.0\n",
        " 3.0"
       ]
      }
     ],
     "prompt_number": 31
    },
    {
     "cell_type": "code",
     "collapsed": false,
     "input": [
      "using JuMP"
     ],
     "language": "python",
     "metadata": {},
     "outputs": [],
     "prompt_number": 32
    },
    {
     "cell_type": "code",
     "collapsed": false,
     "input": [
      "m=Model()"
     ],
     "language": "python",
     "metadata": {},
     "outputs": [
      {
       "latex": [
        "$$\n",
        "\\begin{alignat*}{1}\n",
        "\\min \\quad &0.0\\\\\n",
        "\\text{Subject to} \\quad\\end{alignat*}\n",
        "$$"
       ],
       "metadata": {},
       "output_type": "pyout",
       "prompt_number": 33,
       "text": [
        "Feasibility problem with:\n",
        " * 0 linear constraints\n",
        " * 0 variables\n",
        "Solver set to Gurobi"
       ]
      }
     ],
     "prompt_number": 33
    },
    {
     "cell_type": "code",
     "collapsed": false,
     "input": [
      "@defVar(m,x>=0)"
     ],
     "language": "python",
     "metadata": {},
     "outputs": [],
     "prompt_number": 34
    },
    {
     "cell_type": "code",
     "collapsed": false,
     "input": [
      "@defVar(m,0<=y<=10)"
     ],
     "language": "python",
     "metadata": {},
     "outputs": [],
     "prompt_number": 35
    },
    {
     "cell_type": "code",
     "collapsed": false,
     "input": [
      "@defVar(m,z)"
     ],
     "language": "python",
     "metadata": {},
     "outputs": [],
     "prompt_number": 36
    },
    {
     "cell_type": "code",
     "collapsed": false,
     "input": [
      "@addConstraint(m,z+2y==3)"
     ],
     "language": "python",
     "metadata": {},
     "outputs": [
      {
       "metadata": {},
       "output_type": "pyout",
       "prompt_number": 37,
       "text": [
        "1.0 z + 2.0 y == 3.0"
       ]
      }
     ],
     "prompt_number": 37
    },
    {
     "cell_type": "code",
     "collapsed": false,
     "input": [
      "print(m)\n"
     ],
     "language": "python",
     "metadata": {},
     "outputs": [
      {
       "output_type": "stream",
       "stream": "stdout",
       "text": [
        "Min 0.0\n"
       ]
      },
      {
       "output_type": "stream",
       "stream": "stdout",
       "text": [
        "Subject to \n",
        "1.0 z + 2.0 y == 3.0\n",
        "x \u2265 0.0\n",
        "0.0 \u2264 y \u2264 10.0\n",
        "z free\n"
       ]
      }
     ],
     "prompt_number": 38
    },
    {
     "cell_type": "code",
     "collapsed": false,
     "input": [
      "m"
     ],
     "language": "python",
     "metadata": {},
     "outputs": [
      {
       "latex": [
        "$$\n",
        "\\begin{alignat*}{1}\n",
        "\\min \\quad &0.0\\\\\n",
        "\\text{Subject to} \\quad& 1.0 z + 2.0 y == 3.0 \\\\\n",
        "& x \\geq 0.0\\\\\n",
        "& 0.0 \\leq y \\leq 10.0\\\\\n",
        "& z free\\\\\n",
        "\\end{alignat*}\n",
        "$$"
       ],
       "metadata": {},
       "output_type": "pyout",
       "prompt_number": 39,
       "text": [
        "Feasibility problem with:\n",
        " * 1 linear constraints\n",
        " * 3 variables\n",
        "Solver set to Gurobi"
       ]
      }
     ],
     "prompt_number": 39
    },
    {
     "cell_type": "code",
     "collapsed": false,
     "input": [
      "m"
     ],
     "language": "python",
     "metadata": {},
     "outputs": [
      {
       "metadata": {},
       "output_type": "pyout",
       "prompt_number": 40,
       "text": [
        "2.0 x - 1.0 y + 4.0 z"
       ]
      }
     ],
     "prompt_number": 40
    },
    {
     "cell_type": "code",
     "collapsed": false,
     "input": [
      "m\n"
     ],
     "language": "python",
     "metadata": {},
     "outputs": [
      {
       "latex": [
        "$$\n",
        "\\begin{alignat*}{1}\n",
        "\\max \\quad &2.0 x - 1.0 y + 4.0 z\\\\\n",
        "\\text{Subject to} \\quad& 1.0 z + 2.0 y == 3.0 \\\\\n",
        "& x \\geq 0.0\\\\\n",
        "& 0.0 \\leq y \\leq 10.0\\\\\n",
        "& z free\\\\\n",
        "\\end{alignat*}\n",
        "$$"
       ],
       "metadata": {},
       "output_type": "pyout",
       "prompt_number": 41,
       "text": [
        "Maximization problem with:\n",
        " * 1 linear constraints\n",
        " * 3 variables\n",
        "Solver set to Gurobi"
       ]
      }
     ],
     "prompt_number": 41
    },
    {
     "cell_type": "code",
     "collapsed": false,
     "input": [
      "solve(m)"
     ],
     "language": "python",
     "metadata": {},
     "outputs": [
      {
       "output_type": "stream",
       "stream": "stdout",
       "text": [
        "Optimize a model with 1 rows, 3 columns and 2 nonzeros\n",
        "Presolve time: 0.00s\n",
        "\n",
        "Solved in 0 iterations and 0.00 seconds\n",
        "Infeasible or unbounded model\n"
       ]
      },
      {
       "output_type": "stream",
       "stream": "stderr",
       "text": [
        "WARNING: LP not solved to optimality, status: Unbounded"
       ]
      },
      {
       "output_type": "stream",
       "stream": "stdout",
       "text": [
        "Unbounded ray not available\n"
       ]
      },
      {
       "output_type": "stream",
       "stream": "stderr",
       "text": [
        "\n"
       ]
      },
      {
       "metadata": {},
       "output_type": "pyout",
       "prompt_number": 42,
       "text": [
        ":Unbounded"
       ]
      }
     ],
     "prompt_number": 42
    },
    {
     "cell_type": "code",
     "collapsed": false,
     "input": [
      "m=Model(solver=CplexSolver())"
     ],
     "language": "python",
     "metadata": {},
     "outputs": [
      {
       "ename": "LoadError",
       "evalue": "CplexSolver not defined\nat In[43]:1",
       "output_type": "pyerr",
       "traceback": [
        "CplexSolver not defined\nat In[43]:1"
       ]
      }
     ],
     "prompt_number": 43
    },
    {
     "cell_type": "code",
     "collapsed": false,
     "input": [
      "using CPLEX\n",
      "m=Model(solver=CplexSolver())"
     ],
     "language": "python",
     "metadata": {},
     "outputs": [
      {
       "ename": "LoadError",
       "evalue": "CPLEX not found\nat In[44]:1",
       "output_type": "pyerr",
       "traceback": [
        "CPLEX not found\nat In[44]:1",
        " in require at loading.jl:39"
       ]
      }
     ],
     "prompt_number": 44
    },
    {
     "cell_type": "code",
     "collapsed": false,
     "input": [
      "m=Model(solver=GurobiSolver())"
     ],
     "language": "python",
     "metadata": {},
     "outputs": [
      {
       "ename": "LoadError",
       "evalue": "GurobiSolver not defined\nat In[45]:1",
       "output_type": "pyerr",
       "traceback": [
        "GurobiSolver not defined\nat In[45]:1"
       ]
      }
     ],
     "prompt_number": 45
    },
    {
     "cell_type": "code",
     "collapsed": false,
     "input": [
      "solve(m)"
     ],
     "language": "python",
     "metadata": {},
     "outputs": [
      {
       "output_type": "stream",
       "stream": "stdout",
       "text": [
        "Optimize a model with 1 rows, 3 columns and 2 nonzeros\n",
        "Presolve time: 0.00s\n",
        "\n",
        "Solved in 0 iterations and 0.00 seconds\n",
        "Infeasible or unbounded model\n"
       ]
      },
      {
       "output_type": "stream",
       "stream": "stderr",
       "text": [
        "WARNING: LP not solved to optimality, status: Unbounded"
       ]
      },
      {
       "output_type": "stream",
       "stream": "stdout",
       "text": [
        "Unbounded ray not available\n"
       ]
      },
      {
       "output_type": "stream",
       "stream": "stderr",
       "text": [
        "\n"
       ]
      },
      {
       "metadata": {},
       "output_type": "pyout",
       "prompt_number": 46,
       "text": [
        ":Unbounded"
       ]
      }
     ],
     "prompt_number": 46
    },
    {
     "cell_type": "code",
     "collapsed": false,
     "input": [
      "floor(0.5)"
     ],
     "language": "python",
     "metadata": {},
     "outputs": [
      {
       "metadata": {},
       "output_type": "pyout",
       "prompt_number": 1,
       "text": [
        "0.0"
       ]
      }
     ],
     "prompt_number": 1
    },
    {
     "cell_type": "code",
     "collapsed": false,
     "input": [
      "log(2,4)"
     ],
     "language": "python",
     "metadata": {},
     "outputs": [
      {
       "metadata": {},
       "output_type": "pyout",
       "prompt_number": 3,
       "text": [
        "2.0"
       ]
      }
     ],
     "prompt_number": 3
    },
    {
     "cell_type": "code",
     "collapsed": false,
     "input": [
      "sort(1,2,3,4)"
     ],
     "language": "python",
     "metadata": {},
     "outputs": [
      {
       "ename": "LoadError",
       "evalue": "no method sort(Int64,Int64,Int64,Int64)\nat In[4]:1",
       "output_type": "pyerr",
       "traceback": [
        "no method sort(Int64,Int64,Int64,Int64)\nat In[4]:1"
       ]
      }
     ],
     "prompt_number": 4
    },
    {
     "cell_type": "code",
     "collapsed": false,
     "input": [
      "v=[1 2 3 4]\n",
      "sort(v)"
     ],
     "language": "python",
     "metadata": {},
     "outputs": [
      {
       "ename": "LoadError",
       "evalue": "no method sort(Array{Int64,2},)\nat In[5]:2",
       "output_type": "pyerr",
       "traceback": [
        "no method sort(Array{Int64,2},)\nat In[5]:2"
       ]
      }
     ],
     "prompt_number": 5
    },
    {
     "cell_type": "code",
     "collapsed": false,
     "input": [
      "3 in v"
     ],
     "language": "python",
     "metadata": {},
     "outputs": [
      {
       "metadata": {},
       "output_type": "pyout",
       "prompt_number": 6,
       "text": [
        "true"
       ]
      }
     ],
     "prompt_number": 6
    },
    {
     "cell_type": "code",
     "collapsed": false,
     "input": [
      "!(5 in v)"
     ],
     "language": "python",
     "metadata": {},
     "outputs": [
      {
       "metadata": {},
       "output_type": "pyout",
       "prompt_number": 12,
       "text": [
        "true"
       ]
      }
     ],
     "prompt_number": 12
    },
    {
     "cell_type": "code",
     "collapsed": false,
     "input": [
      "n = 2\n",
      "v= [n 2n]"
     ],
     "language": "python",
     "metadata": {},
     "outputs": [
      {
       "metadata": {},
       "output_type": "pyout",
       "prompt_number": 10,
       "text": [
        "1x2 Array{Int64,2}:\n",
        " 2  4"
       ]
      }
     ],
     "prompt_number": 10
    },
    {
     "cell_type": "code",
     "collapsed": false,
     "input": [
      "if 5 in v \n",
      "    n = 2;\n",
      "elseif 3 in v \n",
      "    n = 4;\n",
      "else \n",
      "    n =5;\n",
      "end\n",
      "        \n",
      "n        "
     ],
     "language": "python",
     "metadata": {},
     "outputs": [
      {
       "metadata": {},
       "output_type": "pyout",
       "prompt_number": 20,
       "text": [
        "5"
       ]
      }
     ],
     "prompt_number": 20
    },
    {
     "cell_type": "code",
     "collapsed": false,
     "input": [
      "v"
     ],
     "language": "python",
     "metadata": {},
     "outputs": [
      {
       "metadata": {},
       "output_type": "pyout",
       "prompt_number": 22,
       "text": [
        "1x2 Array{Int64,2}:\n",
        " 2  4"
       ]
      }
     ],
     "prompt_number": 22
    },
    {
     "cell_type": "code",
     "collapsed": false,
     "input": [
      "v =zeros(3)"
     ],
     "language": "python",
     "metadata": {},
     "outputs": [
      {
       "metadata": {},
       "output_type": "pyout",
       "prompt_number": 23,
       "text": [
        "3-element Array{Float64,1}:\n",
        " 0.0\n",
        " 0.0\n",
        " 0.0"
       ]
      }
     ],
     "prompt_number": 23
    },
    {
     "cell_type": "code",
     "collapsed": false,
     "input": [
      "nchoosek(4,2)"
     ],
     "language": "python",
     "metadata": {},
     "outputs": [
      {
       "ename": "LoadError",
       "evalue": "nchoosek not defined\nat In[24]:1",
       "output_type": "pyerr",
       "traceback": [
        "nchoosek not defined\nat In[24]:1"
       ]
      }
     ],
     "prompt_number": 24
    },
    {
     "cell_type": "code",
     "collapsed": false,
     "input": [
      "v = [1 2 3]\n",
      "c = collect(combinations(v,2))\n"
     ],
     "language": "python",
     "metadata": {},
     "outputs": [
      {
       "ename": "LoadError",
       "evalue": "no method convert(Type{Array{Int64,2}},Array{Int64,1})\nat In[39]:2",
       "output_type": "pyerr",
       "traceback": [
        "no method convert(Type{Array{Int64,2}},Array{Int64,1})\nat In[39]:2",
        " in setindex! at array.jl:412",
        " in collect at array.jl:259",
        " in collect at array.jl:270"
       ]
      }
     ],
     "prompt_number": 39
    },
    {
     "cell_type": "code",
     "collapsed": false,
     "input": [
      "c"
     ],
     "language": "python",
     "metadata": {},
     "outputs": [
      {
       "metadata": {},
       "output_type": "pyout",
       "prompt_number": 30,
       "text": [
        "Combinations{Array{Int64,2}}(1x3 Array{Int64,2}:\n",
        " 1  2  3,2)"
       ]
      }
     ],
     "prompt_number": 30
    },
    {
     "cell_type": "code",
     "collapsed": false,
     "input": [
      "c = @task combinations(v,2)"
     ],
     "language": "python",
     "metadata": {},
     "outputs": [
      {
       "metadata": {},
       "output_type": "pyout",
       "prompt_number": 32,
       "text": [
        "Task"
       ]
      }
     ],
     "prompt_number": 32
    },
    {
     "cell_type": "code",
     "collapsed": false,
     "input": [
      "using Iterators\n",
      "collect(product(repeated(1:2,3)...))"
     ],
     "language": "python",
     "metadata": {},
     "outputs": [
      {
       "ename": "LoadError",
       "evalue": "Iterators not found\nat In[41]:1",
       "output_type": "pyerr",
       "traceback": [
        "Iterators not found\nat In[41]:1",
        " in require at loading.jl:39"
       ]
      }
     ],
     "prompt_number": 41
    },
    {
     "cell_type": "code",
     "collapsed": false,
     "input": [
      "M=2\n",
      "a=[1 2 3 4]\n",
      "c=Int64[1 2]\n",
      "while a[1] "
     ],
     "language": "python",
     "metadata": {},
     "outputs": [
      {
       "metadata": {},
       "output_type": "pyout",
       "prompt_number": 46,
       "text": [
        "1x2 Array{Int64,2}:\n",
        " 1  2"
       ]
      }
     ],
     "prompt_number": 46
    },
    {
     "cell_type": "code",
     "collapsed": false,
     "input": [
      "n=4\n",
      "C = combinations(v,2);\n",
      "CC = Array{Int64,1}[]\n",
      "for i in C\n",
      "    push!(CC,i)\n",
      "    for j in i\n",
      "        @show j\n",
      "    end\n",
      "end\n",
      "CC"
     ],
     "language": "python",
     "metadata": {},
     "outputs": [
      {
       "output_type": "stream",
       "stream": "stdout",
       "text": [
        "j => 1"
       ]
      },
      {
       "output_type": "stream",
       "stream": "stdout",
       "text": [
        "\n",
        "j => 2\n",
        "j => 1\n",
        "j => 3\n",
        "j => 2\n",
        "j => 3\n"
       ]
      },
      {
       "metadata": {},
       "output_type": "pyout",
       "prompt_number": 65,
       "text": [
        "3-element Array{Array{Int64,1},1}:\n",
        " [1,2]\n",
        " [1,3]\n",
        " [2,3]"
       ]
      }
     ],
     "prompt_number": 65
    },
    {
     "cell_type": "code",
     "collapsed": false,
     "input": [
      "CC[1]"
     ],
     "language": "python",
     "metadata": {},
     "outputs": [
      {
       "metadata": {},
       "output_type": "pyout",
       "prompt_number": 67,
       "text": [
        "2-element Array{Int64,1}:\n",
        " 1\n",
        " 2"
       ]
      }
     ],
     "prompt_number": 67
    },
    {
     "cell_type": "code",
     "collapsed": false,
     "input": [
      "typeof(C)"
     ],
     "language": "python",
     "metadata": {},
     "outputs": [
      {
       "metadata": {},
       "output_type": "pyout",
       "prompt_number": 63,
       "text": [
        "Combinations{Array{Int64,1}} (constructor with 1 method)"
       ]
      }
     ],
     "prompt_number": 63
    },
    {
     "cell_type": "code",
     "collapsed": false,
     "input": [
      "N = 7;\n",
      "ngammas = Array{Float64,N}[]"
     ],
     "language": "python",
     "metadata": {},
     "outputs": [
      {
       "metadata": {},
       "output_type": "pyout",
       "prompt_number": 73,
       "text": [
        "0-element Array{Array{Float64,7},1}"
       ]
      }
     ],
     "prompt_number": 73
    },
    {
     "cell_type": "code",
     "collapsed": false,
     "input": [
      "x = 1;y=2;"
     ],
     "language": "python",
     "metadata": {},
     "outputs": [],
     "prompt_number": 137
    },
    {
     "cell_type": "code",
     "collapsed": false,
     "input": [
      "y"
     ],
     "language": "python",
     "metadata": {},
     "outputs": [
      {
       "metadata": {},
       "output_type": "pyout",
       "prompt_number": 138,
       "text": [
        "2"
       ]
      }
     ],
     "prompt_number": 138
    },
    {
     "cell_type": "code",
     "collapsed": false,
     "input": [
      "function myAdd(x, y)\n",
      "    z = x + y\n",
      "end\n",
      "x = 4\n",
      "y = 5;\n",
      "myAdd(x[1],y)"
     ],
     "language": "python",
     "metadata": {},
     "outputs": [
      {
       "metadata": {},
       "output_type": "pyout",
       "prompt_number": 168,
       "text": [
        "9"
       ]
      }
     ],
     "prompt_number": 168
    },
    {
     "cell_type": "code",
     "collapsed": false,
     "input": [
      "using JuMP;\n",
      "using Gurobi;\n",
      "function getM()\n",
      "    m = Model();\n",
      "    @defVar(m, x1 >=0 )\n",
      "    @defVar(m, u >=0 )\n",
      "    \n",
      "    y = typeof(x1)[];\n",
      "    push!(y, x1)\n",
      "    [m x1]\n",
      "end\n",
      "mm = getM();\n",
      "m = mm[1];\n"
     ],
     "language": "python",
     "metadata": {},
     "outputs": [],
     "prompt_number": 168
    },
    {
     "cell_type": "code",
     "collapsed": false,
     "input": [
      "y"
     ],
     "language": "python",
     "metadata": {},
     "outputs": [
      {
       "metadata": {},
       "output_type": "pyout",
       "prompt_number": 169,
       "text": [
        "5"
       ]
      }
     ],
     "prompt_number": 169
    },
    {
     "cell_type": "code",
     "collapsed": false,
     "input": [
      "typeof(mm[2])"
     ],
     "language": "python",
     "metadata": {},
     "outputs": [
      {
       "metadata": {},
       "output_type": "pyout",
       "prompt_number": 166,
       "text": [
        "Variable (constructor with 4 methods)"
       ]
      }
     ],
     "prompt_number": 166
    },
    {
     "cell_type": "code",
     "collapsed": false,
     "input": [
      "1==1 && 2==2"
     ],
     "language": "python",
     "metadata": {},
     "outputs": [
      {
       "metadata": {},
       "output_type": "pyout",
       "prompt_number": 139,
       "text": [
        "true"
       ]
      }
     ],
     "prompt_number": 139
    },
    {
     "cell_type": "code",
     "collapsed": false,
     "input": [
      "a = Array{Int64,2}[]"
     ],
     "language": "python",
     "metadata": {},
     "outputs": [
      {
       "metadata": {},
       "output_type": "pyout",
       "prompt_number": 146,
       "text": [
        "0-element Array{Array{Int64,2},1}"
       ]
      }
     ],
     "prompt_number": 146
    },
    {
     "cell_type": "code",
     "collapsed": false,
     "input": [
      "v= [1 2 3]"
     ],
     "language": "python",
     "metadata": {},
     "outputs": [
      {
       "metadata": {},
       "output_type": "pyout",
       "prompt_number": 147,
       "text": [
        "1x3 Array{Int64,2}:\n",
        " 1  2  3"
       ]
      }
     ],
     "prompt_number": 147
    },
    {
     "cell_type": "code",
     "collapsed": false,
     "input": [
      "push!(a, v)"
     ],
     "language": "python",
     "metadata": {},
     "outputs": [
      {
       "metadata": {},
       "output_type": "pyout",
       "prompt_number": 151,
       "text": [
        "2-element Array{Array{Int64,2},1}:\n",
        " 1x3 Array{Int64,2}:\n",
        " 1  2  3\n",
        " 1x3 Array{Int64,2}:\n",
        " 1  2  3"
       ]
      }
     ],
     "prompt_number": 151
    },
    {
     "cell_type": "code",
     "collapsed": false,
     "input": [
      "a[1][2]"
     ],
     "language": "python",
     "metadata": {},
     "outputs": [
      {
       "metadata": {},
       "output_type": "pyout",
       "prompt_number": 152,
       "text": [
        "2"
       ]
      }
     ],
     "prompt_number": 152
    },
    {
     "cell_type": "code",
     "collapsed": false,
     "input": [
      "c = [1;2;3]"
     ],
     "language": "python",
     "metadata": {},
     "outputs": [
      {
       "metadata": {},
       "output_type": "pyout",
       "prompt_number": 150,
       "text": [
        "3-element Array{Int64,1}:\n",
        " 1\n",
        " 2\n",
        " 3"
       ]
      }
     ],
     "prompt_number": 150
    },
    {
     "cell_type": "code",
     "collapsed": false,
     "input": [
      "A = eye(3)"
     ],
     "language": "python",
     "metadata": {},
     "outputs": [
      {
       "metadata": {},
       "output_type": "pyout",
       "prompt_number": 153,
       "text": [
        "3x3 Array{Float64,2}:\n",
        " 1.0  0.0  0.0\n",
        " 0.0  1.0  0.0\n",
        " 0.0  0.0  1.0"
       ]
      }
     ],
     "prompt_number": 153
    },
    {
     "cell_type": "code",
     "collapsed": false,
     "input": [
      "A[9] = 0"
     ],
     "language": "python",
     "metadata": {},
     "outputs": [
      {
       "metadata": {},
       "output_type": "pyout",
       "prompt_number": 156,
       "text": [
        "0"
       ]
      }
     ],
     "prompt_number": 156
    },
    {
     "cell_type": "code",
     "collapsed": false,
     "input": [
      "A"
     ],
     "language": "python",
     "metadata": {},
     "outputs": [
      {
       "metadata": {},
       "output_type": "pyout",
       "prompt_number": 157,
       "text": [
        "3x3 Array{Float64,2}:\n",
        " 1.0  0.0  0.0\n",
        " 0.0  1.0  0.0\n",
        " 0.0  0.0  0.0"
       ]
      }
     ],
     "prompt_number": 157
    },
    {
     "cell_type": "code",
     "collapsed": false,
     "input": [
      "v = Array{Float64,2}[]"
     ],
     "language": "python",
     "metadata": {},
     "outputs": [
      {
       "metadata": {},
       "output_type": "pyout",
       "prompt_number": 158,
       "text": [
        "0-element Array{Array{Float64,2},1}"
       ]
      }
     ],
     "prompt_number": 158
    },
    {
     "cell_type": "code",
     "collapsed": false,
     "input": [
      "v1 = [ 1 2 3]\n",
      "v2 = [ 1 2]\n",
      "push!(v, v1)\n",
      "push!(v, v2)"
     ],
     "language": "python",
     "metadata": {},
     "outputs": [
      {
       "metadata": {},
       "output_type": "pyout",
       "prompt_number": 159,
       "text": [
        "2-element Array{Array{Float64,2},1}:\n",
        " 1x3 Array{Float64,2}:\n",
        " 1.0  2.0  3.0\n",
        " 1x2 Array{Float64,2}:\n",
        " 1.0  2.0     "
       ]
      }
     ],
     "prompt_number": 159
    },
    {
     "cell_type": "code",
     "collapsed": false,
     "input": [
      "v[1]"
     ],
     "language": "python",
     "metadata": {},
     "outputs": [
      {
       "metadata": {},
       "output_type": "pyout",
       "prompt_number": 160,
       "text": [
        "1x3 Array{Float64,2}:\n",
        " 1.0  2.0  3.0"
       ]
      }
     ],
     "prompt_number": 160
    },
    {
     "cell_type": "code",
     "collapsed": false,
     "input": [
      "v[v1[2]]"
     ],
     "language": "python",
     "metadata": {},
     "outputs": [
      {
       "metadata": {},
       "output_type": "pyout",
       "prompt_number": 162,
       "text": [
        "1x2 Array{Float64,2}:\n",
        " 1.0  2.0"
       ]
      }
     ],
     "prompt_number": 162
    },
    {
     "cell_type": "code",
     "collapsed": false,
     "input": [
      "v = [ 1 2 3]\n",
      "v1 = [2 3 4]\n",
      "R = [ 1 2 3; 1 2 3; 1 2 3]\n",
      "v*R*v1'"
     ],
     "language": "python",
     "metadata": {},
     "outputs": [
      {
       "metadata": {},
       "output_type": "pyout",
       "prompt_number": 165,
       "text": [
        "1x1 Array{Int64,2}:\n",
        " 120"
       ]
      }
     ],
     "prompt_number": 165
    },
    {
     "cell_type": "code",
     "collapsed": false,
     "input": [],
     "language": "python",
     "metadata": {},
     "outputs": []
    }
   ],
   "metadata": {}
  }
 ]
}