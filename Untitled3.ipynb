{
 "metadata": {
  "language": "Julia",
  "name": "",
  "signature": "sha256:be0e438824c6c2e61f30598f8b6023faf84de4d12bc332a32810ab382c179770"
 },
 "nbformat": 3,
 "nbformat_minor": 0,
 "worksheets": [
  {
   "cells": [
    {
     "cell_type": "code",
     "collapsed": false,
     "input": [
      "import Convex\n",
      "x = Convex.Variable(Convex.Positive())\n",
      "Convex.solve!(Convex.minimize(x))\n",
      "Convex.evaluate(x)"
     ],
     "language": "python",
     "metadata": {},
     "outputs": [
      {
       "ename": "LoadError",
       "evalue": "Convex not found\nat In[1]:1",
       "output_type": "pyerr",
       "traceback": [
        "Convex not found\nat In[1]:1",
        "",
        " in require at loading.jl:39"
       ]
      }
     ],
     "prompt_number": 1
    }
   ],
   "metadata": {}
  }
 ]
}